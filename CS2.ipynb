{
 "cells": [
  {
   "cell_type": "code",
   "execution_count": 1,
   "id": "82026734",
   "metadata": {},
   "outputs": [],
   "source": [
    "import numpy as np\n",
    "import pandas as pd\n",
    "\n",
    "import csv"
   ]
  },
  {
   "cell_type": "code",
   "execution_count": 2,
   "id": "14ad1231",
   "metadata": {},
   "outputs": [],
   "source": [
    "df = pd.read_csv(\"VC.csv\")"
   ]
  },
  {
   "cell_type": "code",
   "execution_count": 3,
   "id": "6597d342",
   "metadata": {},
   "outputs": [],
   "source": [
    "df['VACCINES_USED'].fillna(0, inplace = True)\n",
    "df['PERSONS_BOOSTER_ADD_DOSE_PER100'].fillna(0, inplace = True)"
   ]
  },
  {
   "cell_type": "code",
   "execution_count": 4,
   "id": "ac1594a1",
   "metadata": {},
   "outputs": [],
   "source": [
    "numeric_columns = df.select_dtypes(include=['number']).columns\n",
    "\n",
    "df[numeric_columns] = df[numeric_columns].fillna(0)"
   ]
  },
  {
   "cell_type": "code",
   "execution_count": 5,
   "id": "e5bc339f",
   "metadata": {},
   "outputs": [],
   "source": [
    "df.dropna(inplace = True)"
   ]
  },
  {
   "cell_type": "code",
   "execution_count": 6,
   "id": "747dcfb2",
   "metadata": {},
   "outputs": [],
   "source": [
    "df[[ 'PERSONS_LAST_DOSE', 'TOTAL_VACCINATIONS', 'PERSONS_VACCINATED_1PLUS_DOSE']] = df[[ 'PERSONS_LAST_DOSE', 'TOTAL_VACCINATIONS', 'PERSONS_VACCINATED_1PLUS_DOSE']].astype(int)"
   ]
  },
  {
   "cell_type": "code",
   "execution_count": 7,
   "id": "1c01048d",
   "metadata": {},
   "outputs": [],
   "source": [
    "conty_ID_uni = pd.DataFrame({'COUNTRY' : df['COUNTRY'].unique()})\n",
    "conty_ID_uni['CTR_ID'] = conty_ID_uni['COUNTRY'].str[:2].str.upper() + pd.RangeIndex(len(df['COUNTRY'].unique())).astype(str)"
   ]
  },
  {
   "cell_type": "code",
   "execution_count": 8,
   "id": "b17d72d2",
   "metadata": {},
   "outputs": [],
   "source": [
    "dt_ID_uni = pd.DataFrame({'DATA_SOURCE' : df['DATA_SOURCE'].unique()})\n",
    "dt_ID_uni['DS_ID'] = dt_ID_uni['DATA_SOURCE'].str[:2].str.upper() + pd.RangeIndex(len(df['DATA_SOURCE'].unique())).astype(str)"
   ]
  },
  {
   "cell_type": "code",
   "execution_count": 9,
   "id": "41e32626-6642-42ef-b394-01672c005b3a",
   "metadata": {},
   "outputs": [
    {
     "ename": "NameError",
     "evalue": "name 'VC_DS' is not defined",
     "output_type": "error",
     "traceback": [
      "\u001b[1;31m---------------------------------------------------------------------------\u001b[0m",
      "\u001b[1;31mNameError\u001b[0m                                 Traceback (most recent call last)",
      "Cell \u001b[1;32mIn[9], line 1\u001b[0m\n\u001b[1;32m----> 1\u001b[0m VC_DS \u001b[38;5;241m=\u001b[39m pd\u001b[38;5;241m.\u001b[39mmerge(VC_DS, conty_ID_uni, how \u001b[38;5;241m=\u001b[39m \u001b[38;5;124m'\u001b[39m\u001b[38;5;124mleft\u001b[39m\u001b[38;5;124m'\u001b[39m, on \u001b[38;5;241m=\u001b[39m \u001b[38;5;124m'\u001b[39m\u001b[38;5;124mCOUNTRY\u001b[39m\u001b[38;5;124m'\u001b[39m)\n\u001b[0;32m      3\u001b[0m VC_DS \u001b[38;5;241m=\u001b[39m pd\u001b[38;5;241m.\u001b[39mmerge(VC_DS, dt_ID_uni, how \u001b[38;5;241m=\u001b[39m \u001b[38;5;124m'\u001b[39m\u001b[38;5;124mleft\u001b[39m\u001b[38;5;124m'\u001b[39m, on \u001b[38;5;241m=\u001b[39m \u001b[38;5;124m'\u001b[39m\u001b[38;5;124mDATA_SOURCE\u001b[39m\u001b[38;5;124m'\u001b[39m)\n",
      "\u001b[1;31mNameError\u001b[0m: name 'VC_DS' is not defined"
     ]
    }
   ],
   "source": [
    "VC_DS = pd.merge(VC_DS, conty_ID_uni, how = 'left', on = 'COUNTRY')\n",
    "\n",
    "VC_DS = pd.merge(VC_DS, dt_ID_uni, how = 'left', on = 'DATA_SOURCE')"
   ]
  },
  {
   "cell_type": "code",
   "execution_count": null,
   "id": "ef17388b",
   "metadata": {},
   "outputs": [],
   "source": [
    "VC_DS['ID'] = VC_DS['CTR_ID'] + \"_\" + VC_DS['ISO3']  + VC_DS['WHO_REGION'] + \"_\" + VC_DS['DS_ID']"
   ]
  },
  {
   "cell_type": "code",
   "execution_count": null,
   "id": "c51cf637",
   "metadata": {},
   "outputs": [],
   "source": [
    "VC_DS.set_index('ID', inplace = True)"
   ]
  },
  {
   "cell_type": "code",
   "execution_count": null,
   "id": "415305dc",
   "metadata": {},
   "outputs": [],
   "source": [
    "VC_DS.reindex(sorted(VC_DS.columns), axis= 1)"
   ]
  },
  {
   "cell_type": "code",
   "execution_count": null,
   "id": "dfa67d49",
   "metadata": {},
   "outputs": [],
   "source": []
  }
 ],
 "metadata": {
  "kernelspec": {
   "display_name": "Python 3 (ipykernel)",
   "language": "python",
   "name": "python3"
  },
  "language_info": {
   "codemirror_mode": {
    "name": "ipython",
    "version": 3
   },
   "file_extension": ".py",
   "mimetype": "text/x-python",
   "name": "python",
   "nbconvert_exporter": "python",
   "pygments_lexer": "ipython3",
   "version": "3.11.5"
  }
 },
 "nbformat": 4,
 "nbformat_minor": 5
}
