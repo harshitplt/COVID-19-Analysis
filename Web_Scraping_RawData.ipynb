{
 "cells": [
  {
   "cell_type": "code",
   "execution_count": 1,
   "id": "90cc6d8c-77cc-405f-adc5-784fea4dfd7e",
   "metadata": {},
   "outputs": [],
   "source": [
    "import csv\n",
    "import numpy as np\n",
    "import pandas as pd\n",
    "import requests\n",
    "\n",
    "from bs4 import BeautifulSoup"
   ]
  },
  {
   "cell_type": "code",
   "execution_count": 2,
   "id": "51c8188c-4595-48ea-b1db-f477139434ae",
   "metadata": {},
   "outputs": [
    {
     "name": "stdout",
     "output_type": "stream",
     "text": [
      "Data from 'https://www.worldometers.info/world-population/population-by-country/' saved to 'data_1.csv' successfully.\n",
      "Data from 'https://www.worldometers.info/population/countries-in-asia-by-population/' saved to 'data_2.csv' successfully.\n",
      "Data from 'https://www.worldometers.info/population/countries-in-africa-by-population/' saved to 'data_3.csv' successfully.\n",
      "Data from 'https://www.worldometers.info/population/countries-in-europe-by-population/' saved to 'data_4.csv' successfully.\n",
      "Data from 'https://www.worldometers.info/population/countries-in-latin-america-and-the-caribbean-by-population/' saved to 'data_5.csv' successfully.\n",
      "Data from 'https://www.worldometers.info/population/countries-in-oceania-by-population/' saved to 'data_6.csv' successfully.\n"
     ]
    }
   ],
   "source": [
    "# List of URLs to fetch data from\n",
    "urls = [\n",
    "    'https://www.worldometers.info/world-population/population-by-country/',\n",
    "    'https://www.worldometers.info/population/countries-in-asia-by-population/',\n",
    "    'https://www.worldometers.info/population/countries-in-africa-by-population/',\n",
    "    'https://www.worldometers.info/population/countries-in-europe-by-population/',\n",
    "    'https://www.worldometers.info/population/countries-in-latin-america-and-the-caribbean-by-population/',\n",
    "    'https://www.worldometers.info/population/countries-in-oceania-by-population/'\n",
    "    # Add more URLs as needed\n",
    "]\n",
    "\n",
    "# Function to fetch data from a URL and save to CSV\n",
    "def fetch_and_save(url, file_name):\n",
    "    response = requests.get(url)\n",
    "    soup = BeautifulSoup(response.content, 'html.parser')\n",
    "    table = soup.find('table', {'id': 'example2'})  # Assuming table ID is 'example2'\n",
    "\n",
    "    if table:\n",
    "        # Extract table headers\n",
    "        headers = [header.text.strip() for header in table.find_all('th')]\n",
    "\n",
    "        # Extract table rows\n",
    "        rows = []\n",
    "        for row in table.find_all('tr')[1:]:\n",
    "            cols = [col.text.strip() for col in row.find_all('td')]\n",
    "            rows.append(cols)\n",
    "\n",
    "        # Convert data to a pandas DataFrame\n",
    "        df = pd.DataFrame(rows, columns=headers)\n",
    "\n",
    "        # Save DataFrame to CSV file\n",
    "        df.to_csv(file_name, index=False)\n",
    "        print(f\"Data from '{url}' saved to '{file_name}' successfully.\")\n",
    "    else:\n",
    "        print(f\"Failed to locate the table on '{url}'. Please check the table ID or the structure of the webpage.\")\n",
    "\n",
    "# Iterate through each URL and fetch data\n",
    "for idx, url in enumerate(urls, start=1):\n",
    "    file_name = f'data_{idx}.csv'  # Generate a unique file name for each URL\n",
    "    fetch_and_save(url, file_name)"
   ]
  },
  {
   "cell_type": "code",
   "execution_count": 3,
   "id": "5964b862-cd1c-40a2-a002-28c3edbe1483",
   "metadata": {},
   "outputs": [
    {
     "name": "stdout",
     "output_type": "stream",
     "text": [
      "Data from 'https://www.worldometers.info/population/countries-in-asia-by-population/' saved to 'asia_population.csv' successfully.\n",
      "Data from 'https://www.worldometers.info/population/countries-in-africa-by-population/' saved to 'africa_population.csv' successfully.\n"
     ]
    }
   ],
   "source": [
    "from bs4 import BeautifulSoup\n",
    "import requests\n",
    "import pandas as pd\n",
    "\n",
    "# List of tuples: (URL, desired_file_name)\n",
    "urls = [\n",
    "    ('https://www.worldometers.info/population/countries-in-asia-by-population/', 'asia_population.csv'),\n",
    "    ('https://www.worldometers.info/population/countries-in-africa-by-population/', 'africa_population.csv'),\n",
    "    # Add more tuples as needed (URL, desired_file_name)\n",
    "]\n",
    "\n",
    "# Function to fetch data from a URL and save to CSV with specific file name\n",
    "def fetch_and_save(url, file_name):\n",
    "    response = requests.get(url)\n",
    "    soup = BeautifulSoup(response.content, 'html.parser')\n",
    "    table = soup.find('table', {'id': 'example2'})  # Assuming table ID is 'example2'\n",
    "\n",
    "    if table:\n",
    "        # Extract table headers\n",
    "        headers = [header.text.strip() for header in table.find_all('th')]\n",
    "\n",
    "        # Extract table rows\n",
    "        rows = []\n",
    "        for row in table.find_all('tr')[1:]:\n",
    "            cols = [col.text.strip() for col in row.find_all('td')]\n",
    "            rows.append(cols)\n",
    "\n",
    "        # Convert data to a pandas DataFrame\n",
    "        df = pd.DataFrame(rows, columns=headers)\n",
    "\n",
    "        # Save DataFrame to CSV file with specific name\n",
    "        df.to_csv(file_name, index=False)\n",
    "        print(f\"Data from '{url}' saved to '{file_name}' successfully.\")\n",
    "    else:\n",
    "        print(f\"Failed to locate the table on '{url}'. Please check the table ID or the structure of the webpage.\")\n",
    "\n",
    "# Iterate through each URL and fetch data with specific file name\n",
    "for url, file_name in urls:\n",
    "    fetch_and_save(url, file_name)\n"
   ]
  }
 ],
 "metadata": {
  "kernelspec": {
   "display_name": "Python 3 (ipykernel)",
   "language": "python",
   "name": "python3"
  },
  "language_info": {
   "codemirror_mode": {
    "name": "ipython",
    "version": 3
   },
   "file_extension": ".py",
   "mimetype": "text/x-python",
   "name": "python",
   "nbconvert_exporter": "python",
   "pygments_lexer": "ipython3",
   "version": "3.11.5"
  }
 },
 "nbformat": 4,
 "nbformat_minor": 5
}
