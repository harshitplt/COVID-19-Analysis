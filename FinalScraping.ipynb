{
 "cells": [
  {
   "cell_type": "code",
   "execution_count": 1,
   "id": "c3f416a8-ba32-446a-b4fd-755601cbe42c",
   "metadata": {},
   "outputs": [
    {
     "name": "stdout",
     "output_type": "stream",
     "text": [
      "Data from 'https://www.worldometers.info/geography/7-continents/' saved to 'Continent_population.csv' successfully.\n",
      "Data from 'https://www.worldometers.info/geography/7-continents/asia/' saved to 'Asia_population.csv' successfully.\n",
      "Data from 'https://www.worldometers.info/geography/7-continents/africa/' saved to 'Africa_population.csv' successfully.\n",
      "Data from 'https://www.worldometers.info/geography/7-continents/europe/' saved to 'Europe_population.csv' successfully.\n",
      "Data from 'https://www.worldometers.info/geography/7-continents/north-america/' saved to 'NorthAmerica_population.csv' successfully.\n",
      "Data from 'https://www.worldometers.info/geography/7-continents/south-america/' saved to 'SouthAmerica_population.csv' successfully.\n",
      "Data from 'https://www.worldometers.info/geography/7-continents/australia/oceania/' saved to 'Oceania_population.csv' successfully.\n"
     ]
    }
   ],
   "source": [
    "import requests as  req\n",
    "import pandas as pd\n",
    "\n",
    "from bs4 import BeautifulSoup as bs\n",
    "\n",
    "\n",
    "# List of tuples: (URL, desired_file_name)\n",
    "urls = [\n",
    "    ('https://www.worldometers.info/geography/7-continents/', 'Continent_population.csv'),\n",
    "    ('https://www.worldometers.info/geography/7-continents/asia/', 'Asia_population.csv'),\n",
    "    ('https://www.worldometers.info/geography/7-continents/africa/', 'Africa_population.csv'),\n",
    "    ('https://www.worldometers.info/geography/7-continents/europe/', 'Europe_population.csv'),\n",
    "    ('https://www.worldometers.info/geography/7-continents/north-america/', 'NorthAmerica_population.csv'),\n",
    "    ('https://www.worldometers.info/geography/7-continents/south-america/', 'SouthAmerica_population.csv'),\n",
    "    ('https://www.worldometers.info/geography/7-continents/australia/oceania/', 'Oceania_population.csv')\n",
    "    # Add more tuples as needed (URL, desired_file_name)\n",
    "]\n",
    "\n",
    "# Function to fetch data from a URL and save to CSV with specific file name\n",
    "def fetch_and_save(url, file_name):\n",
    "    response = req.get(url)\n",
    "    soup = bs(response.content, 'html.parser')\n",
    "\n",
    "    # Find all tables in the HTML content\n",
    "    tables = soup.find_all('table')\n",
    "\n",
    "    # Assuming we want to fetch data from the first table found (you can adjust this logic)\n",
    "    if tables:\n",
    "        table = tables[0]  # Fetching data from the first table found\n",
    "\n",
    "        # Extract table headers\n",
    "        headers = [header.text.strip() for header in table.find_all('th')]\n",
    "\n",
    "        # Extract table rows\n",
    "        rows = []\n",
    "        for row in table.find_all('tr')[1:]:\n",
    "            cols = [col.text.strip() for col in row.find_all(['td', 'th'])]  # Include 'th' for cases where headers are in 'th'\n",
    "            rows.append(cols)\n",
    "\n",
    "        # Convert data to a pandas DataFrame\n",
    "        df = pd.DataFrame(rows, columns=headers)\n",
    "\n",
    "        # Save DataFrame to CSV file with specific name\n",
    "        df.to_csv(file_name, index=False)\n",
    "        print(f\"Data from '{url}' saved to '{file_name}' successfully.\")\n",
    "    else:\n",
    "        print(f\"No tables found on '{url}'. Please check the structure of the webpage.\")\n",
    "\n",
    "# Iterate through each URL and fetch data with specific file name\n",
    "for url, file_name in urls:\n",
    "    fetch_and_save(url, file_name)\n"
   ]
  },
  {
   "cell_type": "code",
   "execution_count": null,
   "id": "a199de3d-a84a-4949-989f-f14bd16db163",
   "metadata": {},
   "outputs": [],
   "source": []
  }
 ],
 "metadata": {
  "kernelspec": {
   "display_name": "Python 3 (ipykernel)",
   "language": "python",
   "name": "python3"
  },
  "language_info": {
   "codemirror_mode": {
    "name": "ipython",
    "version": 3
   },
   "file_extension": ".py",
   "mimetype": "text/x-python",
   "name": "python",
   "nbconvert_exporter": "python",
   "pygments_lexer": "ipython3",
   "version": "3.11.5"
  }
 },
 "nbformat": 4,
 "nbformat_minor": 5
}
